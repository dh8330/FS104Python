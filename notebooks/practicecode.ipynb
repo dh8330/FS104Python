{
 "metadata": {
  "language_info": {
   "codemirror_mode": {
    "name": "ipython",
    "version": 3
   },
   "file_extension": ".py",
   "mimetype": "text/x-python",
   "name": "python",
   "nbconvert_exporter": "python",
   "pygments_lexer": "ipython3",
   "version": "2.7.16-final"
  },
  "orig_nbformat": 2,
  "kernelspec": {
   "name": "python3",
   "display_name": "Python 2.7.16 64-bit",
   "metadata": {
    "interpreter": {
     "hash": "545e036c4b32438aced1f6b3c8d38ca151d9c36189e05839cb0aa568fda70ddd"
    }
   }
  }
 },
 "nbformat": 4,
 "nbformat_minor": 2,
 "cells": [
  {
   "cell_type": "code",
   "execution_count": 1,
   "metadata": {},
   "outputs": [
    {
     "output_type": "stream",
     "name": "stdout",
     "text": [
      "hello moon\n('my destination - ', 'moon')\n('my destination - ', 'mars')\n"
     ]
    }
   ],
   "source": [
    "class Apollo:\n",
    "    #variables\n",
    "    destination = \"moon\"\n",
    "    #member functions / behavior\n",
    "    def printhello(self):\n",
    "        print(\"hello moon\")\n",
    "    def get_destination(self):\n",
    "        print(\"my destination - \", self.destination)\n",
    "\n",
    "apollo1 = Apollo()\n",
    "apollo1.printhello()\n",
    "apollo1.get_destination()\n",
    "\n",
    "apollo2 = Apollo()\n",
    "apollo2.destination = \"mars\"\n",
    "apollo2.get_destination()"
   ]
  },
  {
   "cell_type": "code",
   "execution_count": null,
   "metadata": {},
   "outputs": [],
   "source": [
    "class Apollo:\n",
    "    #define a constructor to initialise a property, destination\n",
    "    def _init_(self, destination):\n",
    "        self.mission_destination = des\n",
    "    #member functions / behavior\n",
    "    def printhello(self):\n",
    "        print(\"hello moon\")\n",
    "    def get_destination(self):\n",
    "        print(\"my destination - \", self.destination)\n",
    "\n",
    "apollo1 = Apollo()\n",
    "apollo1.printhello()\n",
    "apollo1.get_destination()\n",
    "\n",
    "apollo2 = Apollo()\n",
    "apollo2.destination = \"mars\"\n",
    "apollo2.get_destination()"
   ]
  },
  {
   "cell_type": "code",
   "execution_count": null,
   "metadata": {},
   "outputs": [],
   "source": [
    "DictofPlaces = {'Home': 'Home1', 'House': 'House1'}\n",
    "\n",
    "#create class\n",
    "class Place:\n",
    "    #create variables\n",
    "    destination = \"\"\n",
    "    #define functions/behaviors\n",
    "    def printhello(self):\n",
    "        print(\"Hello!!!!\")\n",
    "    def get_destination(self):\n",
    "        print(\"My destination - \", self.destination)\n",
    "\n",
    "for key in DictofPlaces:\n",
    "    objectname = \"object\" + key\n",
    "    objectname = Place()\n",
    "    objectname.destination = DictofPlaces[key]\n",
    "    objectname.get_destination()"
   ]
  },
  {
   "cell_type": "code",
   "execution_count": null,
   "metadata": {},
   "outputs": [],
   "source": [
    "DictofPlaces = {'Home': 'Home1', 'House': 'House1'}\n",
    "\n",
    "#create class\n",
    "class Place:\n",
    "    #create variables\n",
    "    def __init__(self,destination):\n",
    "        self.destination = destination\n",
    "    #define functions/behaviors\n",
    "    def printhello(self):\n",
    "        print(\"Hello!!!!\")\n",
    "    def get_destination(self):\n",
    "        print(\"My destination - \", self.destination)\n",
    "\n",
    "for key in DictofPlaces:\n",
    "    objectname = \"object\" + key\n",
    "    objectname = Place(DictofPlaces[key])\n",
    "    objectname.get_destination()"
   ]
  },
  {
   "cell_type": "code",
   "execution_count": null,
   "metadata": {},
   "outputs": [],
   "source": [
    "a = lambda x : x + 10\n",
    "print(a(5))\n",
    "\n",
    "#before\n",
    "def function(x):\n",
    "    return x+10\n",
    "\n",
    "#after\n",
    "a = lambda x : x + 10\n",
    "\n",
    "function(5)\n",
    "\n",
    "#mylist = range(-5, 5)\n",
    "#negative = filter(lamba x: x < 0, mylist)\n",
    "#print(list(negative))"
   ]
  },
  {
   "cell_type": "code",
   "execution_count": null,
   "metadata": {},
   "outputs": [],
   "source": [
    "mylist = range(-5, 5)\n",
    "negatives = filter(lambda x: x < 0, mylist)\n",
    "print(list(negatives))"
   ]
  },
  {
   "cell_type": "code",
   "execution_count": null,
   "metadata": {},
   "outputs": [],
   "source": [
    "a = [1,2,3,4]\n",
    "b = [10,10,10,10]\n",
    "c = map(lambda x,y:x+y, a,b)\n",
    "print(list(c))"
   ]
  },
  {
   "cell_type": "code",
   "execution_count": 14,
   "metadata": {},
   "outputs": [
    {
     "output_type": "error",
     "ename": "SyntaxError",
     "evalue": "invalid syntax (<ipython-input-14-520163f983a4>, line 5)",
     "traceback": [
      "\u001b[0;36m  File \u001b[0;32m\"<ipython-input-14-520163f983a4>\"\u001b[0;36m, line \u001b[0;32m5\u001b[0m\n\u001b[0;31m    print(\"*\", end=\" \")\u001b[0m\n\u001b[0m                  ^\u001b[0m\n\u001b[0;31mSyntaxError\u001b[0m\u001b[0;31m:\u001b[0m invalid syntax\n"
     ]
    }
   ],
   "source": [
    "num_rows = int(input(\"Enter the no of rows : \"))\n",
    "\n",
    "for row in range( 1, num_rows+1):\n",
    "    for column in range( 1, row+1 ):\n",
    "        print(\"*\", end=\" \")\n",
    "        print()"
   ]
  },
  {
   "cell_type": "code",
   "execution_count": null,
   "metadata": {},
   "outputs": [],
   "source": []
  }
 ]
}