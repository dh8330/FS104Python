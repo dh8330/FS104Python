{
 "metadata": {
  "language_info": {
   "codemirror_mode": {
    "name": "ipython",
    "version": 3
   },
   "file_extension": ".py",
   "mimetype": "text/x-python",
   "name": "python",
   "nbconvert_exporter": "python",
   "pygments_lexer": "ipython3",
   "version": "2.7.16-final"
  },
  "orig_nbformat": 2,
  "kernelspec": {
   "name": "python3",
   "display_name": "Python 2.7.16 64-bit",
   "metadata": {
    "interpreter": {
     "hash": "545e036c4b32438aced1f6b3c8d38ca151d9c36189e05839cb0aa568fda70ddd"
    }
   }
  }
 },
 "nbformat": 4,
 "nbformat_minor": 2,
 "cells": [
  {
   "cell_type": "code",
   "execution_count": 14,
   "metadata": {},
   "outputs": [],
   "source": [
    "#Create a file\n",
    "\n",
    "#file_object = open(\"filename\", \"mode\")\n",
    "\n",
    "file_object = open(\"test.txt\", \"w\")"
   ]
  },
  {
   "cell_type": "code",
   "execution_count": 21,
   "metadata": {},
   "outputs": [],
   "source": [
    "#Append text to a file\n",
    "\n",
    "def append_to_file(argument_from_function):\n",
    "    file_object=open(\"testfile\", \"a+\")\n",
    "    file_object.write(argument_from_function)\n",
    "    file_object.close()\n",
    "\n",
    "append_to_file(\"Hi there,\")"
   ]
  },
  {
   "cell_type": "code",
   "execution_count": 23,
   "metadata": {},
   "outputs": [
    {
     "output_type": "stream",
     "name": "stdout",
     "text": [
      "Hi there, its me again!Hi there, testing again!Hi there, testing again!Hi there, testing again!Hi there, testing again!Hi there,Hi there,\n"
     ]
    }
   ],
   "source": [
    "#Read file line by line\n",
    "\n",
    "file_object=open(\"testfile\", \"r\")\n",
    "\n",
    "if file_object.mode == 'r':\n",
    "    contents =file_object.readlines()\n",
    "    for line in contents:\n",
    "        print(line)"
   ]
  },
  {
   "cell_type": "code",
   "execution_count": null,
   "metadata": {},
   "outputs": [],
   "source": []
  }
 ]
}