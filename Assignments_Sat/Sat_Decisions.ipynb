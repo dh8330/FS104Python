{
 "cells": [
  {
   "cell_type": "markdown",
   "metadata": {},
   "source": [
    "# Exercises"
   ]
  },
  {
   "cell_type": "markdown",
   "metadata": {},
   "source": [
    "## Question 1"
   ]
  },
  {
   "cell_type": "markdown",
   "metadata": {},
   "source": [
    "**Write a program that takes input of number from user and checks whether number is positive or negative.**"
   ]
  },
  {
   "cell_type": "code",
   "execution_count": 14,
   "metadata": {},
   "outputs": [
    {
     "output_type": "stream",
     "name": "stdout",
     "text": [
      "positive number\n"
     ]
    }
   ],
   "source": [
    "num = (3)\n",
    "if num > 0:\n",
    "    print(\"positive number\")\n",
    "else:\n",
    "    print(\"negative number\")"
   ]
  },
  {
   "cell_type": "markdown",
   "metadata": {},
   "source": [
    "## Question 2"
   ]
  },
  {
   "cell_type": "markdown",
   "metadata": {},
   "source": [
    "**Write a program that inputs a number from user and checks whether number is even or odd.**"
   ]
  },
  {
   "cell_type": "code",
   "execution_count": 36,
   "metadata": {},
   "outputs": [
    {
     "output_type": "stream",
     "name": "stdout",
     "text": [
      "odd number\n"
     ]
    }
   ],
   "source": [
    "num = (5)\n",
    "if (num % 2) == 0:\n",
    "    print(\"even number\")\n",
    "else:\n",
    "    print(\"odd number\")"
   ]
  },
  {
   "cell_type": "markdown",
   "metadata": {},
   "source": []
  },
  {
   "cell_type": "markdown",
   "metadata": {},
   "source": [
    "**Write a program that finds greatest among three numbers. <br> And output print with \"The largest number is (output)\"**"
   ]
  },
  {
   "cell_type": "code",
   "execution_count": 48,
   "metadata": {},
   "outputs": [
    {
     "output_type": "stream",
     "name": "stdout",
     "text": [
      "The largest number is num3\n"
     ]
    }
   ],
   "source": [
    "num1 = int(\"1\")\n",
    "num2 = int(\"2\")\n",
    "num3 = int(\"5\")\n",
    "\n",
    "if num1 > num2 and num1 > num3:\n",
    "    print(\"The largest number is num1\")\n",
    "if num2 > num1 and num2 > num3:\n",
    "    print(\"The largest number is num2\")\n",
    "if num3 > num1 and num3 > num2:\n",
    "    print(\"The largest number is num3\")"
   ]
  },
  {
   "cell_type": "markdown",
   "metadata": {},
   "source": [
    "## Question 4"
   ]
  },
  {
   "cell_type": "markdown",
   "metadata": {},
   "source": [
    "**You’re on a long car trip and arrive at a gas station. The next gas station is 200km away.\n",
    "Write a program to figure out if you need to buy gas here, or if you can wait for the\n",
    "next station. <br><br>\n",
    "The condition to buy gas here is if car is able to run at least 200km more <br><br>\n",
    "Ask user for input: How many litres of gas left in tank? How many km/litre is your car? <br>\n",
    "Hint: Calculate the distance your car can still run with remaining gas**\n"
   ]
  },
  {
   "cell_type": "code",
   "execution_count": 70,
   "metadata": {},
   "outputs": [
    {
     "output_type": "stream",
     "name": "stdout",
     "text": [
      "Go to next station\n"
     ]
    }
   ],
   "source": [
    "gas_left = (\"How many litres of gas left in your tank?\")\n",
    "litres_km = (\"How many km/litre is your car?\")\n",
    "\n",
    "refuel = gas_left > litres_km\n",
    "\n",
    "if (refuel > 200):\n",
    "    print(\"Pls top up\")\n",
    "else:\n",
    "    print(\"Go to next station\")"
   ]
  },
  {
   "cell_type": "markdown",
   "metadata": {},
   "source": [
    "## Question 5"
   ]
  },
  {
   "cell_type": "markdown",
   "metadata": {},
   "source": [
    "**A soccer team is looking for girls from ages 10 to 12 to play on their team. Write a program to ask the user’s age and whether the user is male or female (using “m” or “f”). Display a message indicating whether the person is eligible to play on the team.\n",
    "Bonus: Make the program so that it doesn’t ask for the age unless the user is a girl.**"
   ]
  },
  {
   "cell_type": "code",
   "execution_count": 24,
   "metadata": {},
   "outputs": [
    {
     "output_type": "stream",
     "name": "stdout",
     "text": [
      "You have entered \nYour input is not valid!!!\n"
     ]
    }
   ],
   "source": [
    "gender_input = str(input(\"What is your gender (Key in m for male and f for female)\"))\n",
    "print(\"You have entered\",gender_input)\n",
    "\n",
    "if gender_input.lower() == \"m\":\n",
    "    print(\"Sorry we are not looking for male team member at the moment!!!Please try again later.\")\n",
    "elif gender_input.lower() == \"f\":\n",
    "    age = int(input(\"What is your age?\"))\n",
    "    print(\"You have entered you age as\",age)\n",
    "    if (age > 9) and (age < 13):\n",
    "        print(\"You are eligible to join for the trials for the team selection!!!Please come for the trials!\")\n",
    "    else:\n",
    "        print(\"You are not eligible to play on the team as your age doesn't meet the requirements\")\n",
    "else:\n",
    "    print(\"Your input is not valid!!!\")"
   ]
  },
  {
   "cell_type": "markdown",
   "metadata": {},
   "source": [
    "## Question 6"
   ]
  },
  {
   "cell_type": "markdown",
   "metadata": {},
   "source": [
    "**Write a program that prompts the user to enter a weight in kilograms and height in metres and then displays the BMI as well as below interpreations.** \n",
    "\n",
    "**If BMI is Below $18.5$, it is interpreted as Underweight. <br>\n",
    "If BMI is from $18.5–24.9$, it is interpreted as Normal. <br>\n",
    "If BMI is from $25.0–29.9$, it is interpreted as Overweight. <br>\n",
    "else If BMI is Above $30.0$, it is interpreted as Obese.**\n"
   ]
  },
  {
   "cell_type": "code",
   "execution_count": 35,
   "metadata": {},
   "outputs": [
    {
     "output_type": "stream",
     "name": "stdout",
     "text": [
      "Your BMI is in Underweight range\n"
     ]
    }
   ],
   "source": [
    "weight = float(input(\"Please enter your weight in kilograms\"))\n",
    "height = float(input(\"Please enter your height in metres\"))\n",
    "\n",
    "BMI = (weight/(height*height))\n",
    "\n",
    "\n",
    "if (BMI >= 18.5) and (BMI <= 24.9):\n",
    "    print(\"Your BMI is in Normal range\")\n",
    "elif (BMI >= 25.0) and (BMI <= 29.9):\n",
    "    print(\"Your BMI is in Overweight range\")\n",
    "elif (BMI >= 30.0):\n",
    "    print(\"Your BMI is in Obese range\")\n",
    "elif (BMI < 18.5) and (BMI > 0):\n",
    "    print(\"Your BMI is in Underweight range\")\n",
    "else:\n",
    "    print(\"Some of the values you have entered is invalid!!!\")"
   ]
  },
  {
   "cell_type": "markdown",
   "metadata": {},
   "source": [
    "## Question 7"
   ]
  },
  {
   "cell_type": "markdown",
   "metadata": {},
   "source": [
    "**Write a program in which user enters one number and whether it is divisible by 7 (ie. remainder 0 when divide by 7) and is not a multiple of 5.**"
   ]
  },
  {
   "cell_type": "code",
   "execution_count": 11,
   "metadata": {},
   "outputs": [
    {
     "output_type": "stream",
     "name": "stdout",
     "text": [
      "105,140,175,210,245,280,315,350,385,420,455,490\n"
     ]
    }
   ],
   "source": [
    "nl=[]\n",
    "for x in range(100, 507):\n",
    "    if (x%7==0) and (x%5==0):\n",
    "        nl.append(str(x))\n",
    "print (','.join(nl))"
   ]
  },
  {
   "cell_type": "code",
   "execution_count": null,
   "metadata": {},
   "outputs": [],
   "source": []
  }
 ],
 "metadata": {
  "kernelspec": {
   "name": "python3",
   "display_name": "Python 3.9.1 64-bit",
   "metadata": {
    "interpreter": {
     "hash": "7812ea015bdcee6f23a998adcdd2ef97c151c0c241b7b7070987d9313e41299d"
    }
   }
  },
  "language_info": {
   "codemirror_mode": {
    "name": "ipython",
    "version": 3
   },
   "file_extension": ".py",
   "mimetype": "text/x-python",
   "name": "python",
   "nbconvert_exporter": "python",
   "pygments_lexer": "ipython3",
   "version": "3.9.1-final"
  }
 },
 "nbformat": 4,
 "nbformat_minor": 2
}