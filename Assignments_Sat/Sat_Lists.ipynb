{
 "cells": [
  {
   "cell_type": "markdown",
   "metadata": {},
   "source": [
    "# Exercise"
   ]
  },
  {
   "cell_type": "markdown",
   "metadata": {},
   "source": [
    "1. Which of the following would be the resulting list after inserting the value 50 at index 2?<br>\n",
    "            0: 35\n",
    "            1: 15\n",
    "            2: 45\n",
    "            3: 28\n",
    "\n",
    "        (a)  0: 35       (b)   0: 35        (c)  0: 50\n",
    "             1: 50             1: 15             1: 35\n",
    "             2: 15             2: 50             2: 15\n",
    "             3: 45             3: 45             3: 45\n",
    "             4: 28             4: 28             4: 28\n",
    "                                                       \n"
   ]
  },
  {
   "cell_type": "code",
   "execution_count": null,
   "metadata": {},
   "outputs": [],
   "source": [
    "b "
   ]
  },
  {
   "cell_type": "markdown",
   "metadata": {},
   "source": [
    "2. Lists and tuples must each contain at least one element. (TRUE/FALSE)\n"
   ]
  },
  {
   "cell_type": "code",
   "execution_count": null,
   "metadata": {},
   "outputs": [],
   "source": [
    "true"
   ]
  },
  {
   "cell_type": "markdown",
   "metadata": {},
   "source": [
    "3. For lst = [4, 2, 9, 1], what is the result of the following operation,\n",
    "lst.insert(2, 3)?<br>\n",
    "(a) [4, 2, 3, 9, 1] <br>        (b) [4, 3 ,2, 9, 1]      <br>     (c) [4, 2, 9, 2, 1]\n"
   ]
  },
  {
   "cell_type": "code",
   "execution_count": null,
   "metadata": {},
   "outputs": [],
   "source": [
    "a"
   ]
  },
  {
   "cell_type": "markdown",
   "metadata": {},
   "source": [
    "## Question 2"
   ]
  },
  {
   "cell_type": "markdown",
   "metadata": {},
   "source": [
    "**What Will Be The Output Of The Following Code Snippet? <br>\n",
    "a = [1,2,3,4,5] <br>\n",
    "a[0:4:2]**\n"
   ]
  },
  {
   "cell_type": "markdown",
   "metadata": {},
   "source": [
    "A. [1,3]\n",
    "\n",
    "B. [1,3,5]\n",
    "\n",
    "C. [2,4]\n"
   ]
  },
  {
   "cell_type": "code",
   "execution_count": null,
   "metadata": {},
   "outputs": [],
   "source": [
    "a "
   ]
  },
  {
   "cell_type": "markdown",
   "metadata": {},
   "source": [
    "## Question 3"
   ]
  },
  {
   "cell_type": "markdown",
   "metadata": {},
   "source": [
    "**Write a Python program to print a tuple with string formatting.**\n",
    "\n",
    "Sample tuple : (100, 200, 300)\n",
    "    \n",
    "Output : This is a tuple (100, 200, 300)"
   ]
  },
  {
   "cell_type": "code",
   "execution_count": 9,
   "metadata": {},
   "outputs": [
    {
     "output_type": "stream",
     "name": "stdout",
     "text": [
      "This is a tuble {100, 200, 300}\n"
     ]
    }
   ],
   "source": [
    "T = (100, 200, 300)\n",
    "\n",
    "print('This is a tuble {100, 200, 300}')"
   ]
  },
  {
   "cell_type": "markdown",
   "metadata": {},
   "source": [
    "4. What would be the range of index values for a list of 10 elements?<br>\n",
    "(a) 0–9 (b) 0–10 (c) 1–10\n"
   ]
  },
  {
   "cell_type": "code",
   "execution_count": null,
   "metadata": {},
   "outputs": [],
   "source": [
    "c "
   ]
  },
  {
   "cell_type": "markdown",
   "metadata": {},
   "source": [
    "5. Which of the following sequence types is a mutable type?<br>\n",
    "(a) strings (b) lists (c) tuples  "
   ]
  },
  {
   "cell_type": "code",
   "execution_count": null,
   "metadata": {},
   "outputs": [],
   "source": [
    "b "
   ]
  }
 ],
 "metadata": {
  "kernelspec": {
   "name": "python3",
   "display_name": "Python 3.9.1 64-bit",
   "metadata": {
    "interpreter": {
     "hash": "7812ea015bdcee6f23a998adcdd2ef97c151c0c241b7b7070987d9313e41299d"
    }
   }
  },
  "language_info": {
   "codemirror_mode": {
    "name": "ipython",
    "version": 3
   },
   "file_extension": ".py",
   "mimetype": "text/x-python",
   "name": "python",
   "nbconvert_exporter": "python",
   "pygments_lexer": "ipython3",
   "version": "3.9.1-final"
  }
 },
 "nbformat": 4,
 "nbformat_minor": 2
}