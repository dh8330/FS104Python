{
 "metadata": {
  "language_info": {
   "codemirror_mode": {
    "name": "ipython",
    "version": 3
   },
   "file_extension": ".py",
   "mimetype": "text/x-python",
   "name": "python",
   "nbconvert_exporter": "python",
   "pygments_lexer": "ipython3",
   "version": "3.9.1-final"
  },
  "orig_nbformat": 2,
  "kernelspec": {
   "name": "python3",
   "display_name": "Python 3.9.1 64-bit",
   "metadata": {
    "interpreter": {
     "hash": "7812ea015bdcee6f23a998adcdd2ef97c151c0c241b7b7070987d9313e41299d"
    }
   }
  }
 },
 "nbformat": 4,
 "nbformat_minor": 2,
 "cells": [
  {
   "cell_type": "code",
   "execution_count": 6,
   "metadata": {},
   "outputs": [
    {
     "output_type": "stream",
     "name": "stdout",
     "text": [
      "1 Desmond\n"
     ]
    }
   ],
   "source": [
    "class Employee: \n",
    "    #attributes / properties\n",
    "    employee_id = \"\"\n",
    "    employee_name = \"\"\n",
    "    #methods / behavior\n",
    "    def returnemployeeid(self, id, name):\n",
    "        employee_id = id\n",
    "        employee_name = name\n",
    "        print(employee_id, employee_name)\n",
    "\n",
    "\n",
    "employee1 = Employee()\n",
    "employee1.returnemployeeid(1, \"Desmond\")"
   ]
  },
  {
   "cell_type": "code",
   "execution_count": 9,
   "metadata": {},
   "outputs": [
    {
     "output_type": "stream",
     "name": "stdout",
     "text": [
      "<class '__main__.Employee'>\n"
     ]
    }
   ],
   "source": [
    "class Employee:\n",
    "    \"\"\n",
    "me = Employee()\n",
    "print(type(me))"
   ]
  },
  {
   "cell_type": "code",
   "execution_count": null,
   "metadata": {},
   "outputs": [],
   "source": []
  },
  {
   "cell_type": "code",
   "execution_count": 28,
   "metadata": {},
   "outputs": [],
   "source": [
    "class Calculator:\n",
    "    def _init_(self, a, b):\n",
    "        self.a = a\n",
    "        self.b = b \n",
    "    def addition(self, a, b):\n",
    "        return a+b \n",
    "        "
   ]
  },
  {
   "cell_type": "code",
   "execution_count": null,
   "metadata": {},
   "outputs": [],
   "source": []
  }
 ]
}